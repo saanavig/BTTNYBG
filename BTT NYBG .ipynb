{
 "cells": [
  {
   "cell_type": "code",
   "execution_count": 1,
   "id": "ff1a7ac0",
   "metadata": {
    "execution": {
     "iopub.execute_input": "2024-03-06T20:59:17.280256Z",
     "iopub.status.busy": "2024-03-06T20:59:17.279731Z",
     "iopub.status.idle": "2024-03-06T20:59:34.813292Z",
     "shell.execute_reply": "2024-03-06T20:59:34.811986Z"
    },
    "papermill": {
     "duration": 17.545957,
     "end_time": "2024-03-06T20:59:34.816335",
     "exception": false,
     "start_time": "2024-03-06T20:59:17.270378",
     "status": "completed"
    },
    "tags": []
   },
   "outputs": [
    {
     "name": "stderr",
     "output_type": "stream",
     "text": [
      "2024-03-06 20:59:20.642676: E external/local_xla/xla/stream_executor/cuda/cuda_dnn.cc:9261] Unable to register cuDNN factory: Attempting to register factory for plugin cuDNN when one has already been registered\n",
      "2024-03-06 20:59:20.642814: E external/local_xla/xla/stream_executor/cuda/cuda_fft.cc:607] Unable to register cuFFT factory: Attempting to register factory for plugin cuFFT when one has already been registered\n",
      "2024-03-06 20:59:20.802709: E external/local_xla/xla/stream_executor/cuda/cuda_blas.cc:1515] Unable to register cuBLAS factory: Attempting to register factory for plugin cuBLAS when one has already been registered\n"
     ]
    }
   ],
   "source": [
    "# Import necessary libraries\n",
    "import numpy as np\n",
    "import pandas as pd\n",
    "import os\n",
    "\n",
    "import zipfile\n",
    "import tensorflow as tf\n",
    "\n",
    "from tensorflow.keras.preprocessing.image import ImageDataGenerator\n",
    "from tensorflow.keras.models import Sequential\n",
    "from tensorflow.keras.callbacks import EarlyStopping\n",
    "from tensorflow.keras.layers import Conv2D, MaxPooling2D, Flatten, Dense, Dropout, Input\n",
    "from tensorflow.keras.optimizers import Adam\n",
    "from tensorflow.keras.applications.resnet50 import ResNet50, preprocess_input\n",
    "\n",
    "from tensorflow.keras.applications import DenseNet121\n",
    "from tensorflow.keras.models import Sequential\n",
    "from tensorflow.keras.layers import Dense, GlobalAveragePooling2D, Dropout\n",
    "from tensorflow.keras.optimizers import Adam\n",
    "from tensorflow.keras.callbacks import EarlyStopping\n",
    "\n",
    "\n",
    "from sklearn.model_selection import train_test_split\n",
    "from sklearn.metrics import roc_auc_score\n",
    "from PIL import Image"
   ]
  },
  {
   "cell_type": "code",
   "execution_count": 2,
   "id": "5272a24c",
   "metadata": {
    "execution": {
     "iopub.execute_input": "2024-03-06T20:59:34.833081Z",
     "iopub.status.busy": "2024-03-06T20:59:34.832285Z",
     "iopub.status.idle": "2024-03-06T20:59:34.840388Z",
     "shell.execute_reply": "2024-03-06T20:59:34.839109Z"
    },
    "papermill": {
     "duration": 0.019109,
     "end_time": "2024-03-06T20:59:34.842833",
     "exception": false,
     "start_time": "2024-03-06T20:59:34.823724",
     "status": "completed"
    },
    "tags": []
   },
   "outputs": [],
   "source": [
    "# Define paths to dataset files \n",
    "base_path = '/kaggle/input/bttai-nybg-2024'  \n",
    "train_csv_path = os.path.join(base_path, 'BTTAIxNYBG-train.csv')\n",
    "validation_csv_path = os.path.join(base_path, 'BTTAIxNYBG-validation.csv')\n",
    "test_csv_path = os.path.join(base_path, 'BTTAIxNYBG-test.csv')\n",
    "train_images_path = os.path.join(base_path, 'BTTAIxNYBG-train/BTTAIxNYBG-train')\n",
    "validation_images_path = os.path.join(base_path, 'BTTAIxNYBG-validation/BTTAIxNYBG-validation')\n",
    "test_images_path = os.path.join(base_path, 'BTTAIxNYBG-test/BTTAIxNYBG-test')"
   ]
  },
  {
   "cell_type": "code",
   "execution_count": 3,
   "id": "0f7db78b",
   "metadata": {
    "execution": {
     "iopub.execute_input": "2024-03-06T20:59:34.858597Z",
     "iopub.status.busy": "2024-03-06T20:59:34.858176Z",
     "iopub.status.idle": "2024-03-06T20:59:35.171680Z",
     "shell.execute_reply": "2024-03-06T20:59:35.170607Z"
    },
    "papermill": {
     "duration": 0.324763,
     "end_time": "2024-03-06T20:59:35.174521",
     "exception": false,
     "start_time": "2024-03-06T20:59:34.849758",
     "status": "completed"
    },
    "tags": []
   },
   "outputs": [],
   "source": [
    "# Load datasets\n",
    "train_df = pd.read_csv(train_csv_path)\n",
    "validation_df = pd.read_csv(validation_csv_path)\n",
    "test_df = pd.read_csv(test_csv_path)"
   ]
  },
  {
   "cell_type": "code",
   "execution_count": 4,
   "id": "1c876122",
   "metadata": {
    "execution": {
     "iopub.execute_input": "2024-03-06T20:59:35.190410Z",
     "iopub.status.busy": "2024-03-06T20:59:35.189594Z",
     "iopub.status.idle": "2024-03-06T20:59:35.248381Z",
     "shell.execute_reply": "2024-03-06T20:59:35.247273Z"
    },
    "papermill": {
     "duration": 0.06976,
     "end_time": "2024-03-06T20:59:35.251208",
     "exception": false,
     "start_time": "2024-03-06T20:59:35.181448",
     "status": "completed"
    },
    "tags": []
   },
   "outputs": [],
   "source": [
    "# Convert the 'classID' column to string in both the training and validation DataFrames\n",
    "train_df['classID_str'] = train_df['classID'].astype(str)\n",
    "validation_df['classID_str'] = validation_df['classID'].astype(str)"
   ]
  },
  {
   "cell_type": "code",
   "execution_count": 5,
   "id": "83ac02c7",
   "metadata": {
    "execution": {
     "iopub.execute_input": "2024-03-06T20:59:35.271052Z",
     "iopub.status.busy": "2024-03-06T20:59:35.269978Z",
     "iopub.status.idle": "2024-03-06T20:59:35.301626Z",
     "shell.execute_reply": "2024-03-06T20:59:35.300225Z"
    },
    "papermill": {
     "duration": 0.045642,
     "end_time": "2024-03-06T20:59:35.304808",
     "exception": false,
     "start_time": "2024-03-06T20:59:35.259166",
     "status": "completed"
    },
    "tags": []
   },
   "outputs": [
    {
     "data": {
      "text/html": [
       "<div>\n",
       "<style scoped>\n",
       "    .dataframe tbody tr th:only-of-type {\n",
       "        vertical-align: middle;\n",
       "    }\n",
       "\n",
       "    .dataframe tbody tr th {\n",
       "        vertical-align: top;\n",
       "    }\n",
       "\n",
       "    .dataframe thead th {\n",
       "        text-align: right;\n",
       "    }\n",
       "</style>\n",
       "<table border=\"1\" class=\"dataframe\">\n",
       "  <thead>\n",
       "    <tr style=\"text-align: right;\">\n",
       "      <th></th>\n",
       "      <th>uniqueID</th>\n",
       "      <th>classLabel</th>\n",
       "      <th>classID</th>\n",
       "      <th>source</th>\n",
       "      <th>imageFile</th>\n",
       "      <th>classID_str</th>\n",
       "    </tr>\n",
       "  </thead>\n",
       "  <tbody>\n",
       "    <tr>\n",
       "      <th>0</th>\n",
       "      <td>2</td>\n",
       "      <td>occluded-specimens</td>\n",
       "      <td>8</td>\n",
       "      <td>L</td>\n",
       "      <td>a1a8b48e8cb142b3.jpg</td>\n",
       "      <td>8</td>\n",
       "    </tr>\n",
       "    <tr>\n",
       "      <th>1</th>\n",
       "      <td>3</td>\n",
       "      <td>microscope-slides</td>\n",
       "      <td>6</td>\n",
       "      <td>L</td>\n",
       "      <td>79599db2ac9092b6.jpg</td>\n",
       "      <td>6</td>\n",
       "    </tr>\n",
       "    <tr>\n",
       "      <th>2</th>\n",
       "      <td>4</td>\n",
       "      <td>illustrations-color</td>\n",
       "      <td>2</td>\n",
       "      <td>BHL</td>\n",
       "      <td>c449696f2f0d0d92.jpg</td>\n",
       "      <td>2</td>\n",
       "    </tr>\n",
       "    <tr>\n",
       "      <th>3</th>\n",
       "      <td>5</td>\n",
       "      <td>illustrations-color</td>\n",
       "      <td>2</td>\n",
       "      <td>P</td>\n",
       "      <td>80a8f4a393b4e08c.jpg</td>\n",
       "      <td>2</td>\n",
       "    </tr>\n",
       "    <tr>\n",
       "      <th>4</th>\n",
       "      <td>6</td>\n",
       "      <td>animal-specimens</td>\n",
       "      <td>0</td>\n",
       "      <td>AK</td>\n",
       "      <td>041a1c6e73313638.jpg</td>\n",
       "      <td>0</td>\n",
       "    </tr>\n",
       "    <tr>\n",
       "      <th>...</th>\n",
       "      <td>...</td>\n",
       "      <td>...</td>\n",
       "      <td>...</td>\n",
       "      <td>...</td>\n",
       "      <td>...</td>\n",
       "      <td>...</td>\n",
       "    </tr>\n",
       "    <tr>\n",
       "      <th>81941</th>\n",
       "      <td>122874</td>\n",
       "      <td>micrographs-transmission-light</td>\n",
       "      <td>5</td>\n",
       "      <td>Tw</td>\n",
       "      <td>2424355d5438181c.jpg</td>\n",
       "      <td>5</td>\n",
       "    </tr>\n",
       "    <tr>\n",
       "      <th>81942</th>\n",
       "      <td>122875</td>\n",
       "      <td>illustrations-color</td>\n",
       "      <td>2</td>\n",
       "      <td>BHL</td>\n",
       "      <td>b28acccccecad04c.jpg</td>\n",
       "      <td>2</td>\n",
       "    </tr>\n",
       "    <tr>\n",
       "      <th>81943</th>\n",
       "      <td>122876</td>\n",
       "      <td>microscope-slides</td>\n",
       "      <td>6</td>\n",
       "      <td>L</td>\n",
       "      <td>78f6868694a6669c.jpg</td>\n",
       "      <td>6</td>\n",
       "    </tr>\n",
       "    <tr>\n",
       "      <th>81944</th>\n",
       "      <td>122877</td>\n",
       "      <td>live-plants</td>\n",
       "      <td>4</td>\n",
       "      <td>E</td>\n",
       "      <td>5c6162948949510a.jpg</td>\n",
       "      <td>4</td>\n",
       "    </tr>\n",
       "    <tr>\n",
       "      <th>81945</th>\n",
       "      <td>122879</td>\n",
       "      <td>biocultural-specimens</td>\n",
       "      <td>1</td>\n",
       "      <td>C</td>\n",
       "      <td>58583a38131331e8.jpg</td>\n",
       "      <td>1</td>\n",
       "    </tr>\n",
       "  </tbody>\n",
       "</table>\n",
       "<p>81946 rows × 6 columns</p>\n",
       "</div>"
      ],
      "text/plain": [
       "       uniqueID                      classLabel  classID source  \\\n",
       "0             2              occluded-specimens        8      L   \n",
       "1             3               microscope-slides        6      L   \n",
       "2             4             illustrations-color        2    BHL   \n",
       "3             5             illustrations-color        2      P   \n",
       "4             6                animal-specimens        0     AK   \n",
       "...         ...                             ...      ...    ...   \n",
       "81941    122874  micrographs-transmission-light        5     Tw   \n",
       "81942    122875             illustrations-color        2    BHL   \n",
       "81943    122876               microscope-slides        6      L   \n",
       "81944    122877                     live-plants        4      E   \n",
       "81945    122879           biocultural-specimens        1      C   \n",
       "\n",
       "                  imageFile classID_str  \n",
       "0      a1a8b48e8cb142b3.jpg           8  \n",
       "1      79599db2ac9092b6.jpg           6  \n",
       "2      c449696f2f0d0d92.jpg           2  \n",
       "3      80a8f4a393b4e08c.jpg           2  \n",
       "4      041a1c6e73313638.jpg           0  \n",
       "...                     ...         ...  \n",
       "81941  2424355d5438181c.jpg           5  \n",
       "81942  b28acccccecad04c.jpg           2  \n",
       "81943  78f6868694a6669c.jpg           6  \n",
       "81944  5c6162948949510a.jpg           4  \n",
       "81945  58583a38131331e8.jpg           1  \n",
       "\n",
       "[81946 rows x 6 columns]"
      ]
     },
     "execution_count": 5,
     "metadata": {},
     "output_type": "execute_result"
    }
   ],
   "source": [
    "train_df"
   ]
  },
  {
   "cell_type": "code",
   "execution_count": 6,
   "id": "04441f9a",
   "metadata": {
    "execution": {
     "iopub.execute_input": "2024-03-06T20:59:35.324895Z",
     "iopub.status.busy": "2024-03-06T20:59:35.323797Z",
     "iopub.status.idle": "2024-03-06T20:59:35.334265Z",
     "shell.execute_reply": "2024-03-06T20:59:35.333035Z"
    },
    "papermill": {
     "duration": 0.02362,
     "end_time": "2024-03-06T20:59:35.338271",
     "exception": false,
     "start_time": "2024-03-06T20:59:35.314651",
     "status": "completed"
    },
    "tags": []
   },
   "outputs": [
    {
     "data": {
      "text/plain": [
       "uniqueID        int64\n",
       "classLabel     object\n",
       "classID         int64\n",
       "source         object\n",
       "imageFile      object\n",
       "classID_str    object\n",
       "dtype: object"
      ]
     },
     "execution_count": 6,
     "metadata": {},
     "output_type": "execute_result"
    }
   ],
   "source": [
    "train_df.dtypes"
   ]
  },
  {
   "cell_type": "code",
   "execution_count": 7,
   "id": "df78d561",
   "metadata": {
    "execution": {
     "iopub.execute_input": "2024-03-06T20:59:35.358665Z",
     "iopub.status.busy": "2024-03-06T20:59:35.357923Z",
     "iopub.status.idle": "2024-03-06T21:03:05.792295Z",
     "shell.execute_reply": "2024-03-06T21:03:05.790938Z"
    },
    "papermill": {
     "duration": 210.447559,
     "end_time": "2024-03-06T21:03:05.795927",
     "exception": false,
     "start_time": "2024-03-06T20:59:35.348368",
     "status": "completed"
    },
    "tags": []
   },
   "outputs": [
    {
     "name": "stdout",
     "output_type": "stream",
     "text": [
      "Found 81946 validated image filenames belonging to 10 classes.\n",
      "Found 10244 validated image filenames belonging to 10 classes.\n",
      "Found 30690 validated image filenames.\n"
     ]
    }
   ],
   "source": [
    "# Prepare ImageDataGenerator for training and validation (adjust target_size for ResNet50)\n",
    "train_datagen = ImageDataGenerator(rescale=1./255, rotation_range=20, width_shift_range=0.2, height_shift_range=0.2, horizontal_flip=True, preprocessing_function=preprocess_input)\n",
    "validation_datagen = ImageDataGenerator(rescale=1./255, preprocessing_function=preprocess_input)\n",
    "test_datagen = ImageDataGenerator(rescale=1./255)\n",
    "batch_size = 32\n",
    "\n",
    "train_generator = train_datagen.flow_from_dataframe(\n",
    "    dataframe=train_df,\n",
    "    directory=train_images_path,\n",
    "    x_col='imageFile',\n",
    "    y_col='classID_str',\n",
    "    target_size=(224, 224),  # Adjust for ResNet50\n",
    "    batch_size=batch_size,\n",
    "    class_mode='categorical'\n",
    ")\n",
    "\n",
    "validate_generator = validation_datagen.flow_from_dataframe(\n",
    "    dataframe=validation_df,\n",
    "    directory=validation_images_path,\n",
    "    x_col='imageFile',\n",
    "    y_col='classID_str',\n",
    "    target_size=(224, 224),  # Adjust for ResNet50\n",
    "    batch_size=batch_size,\n",
    "    class_mode='categorical'\n",
    ")\n",
    "\n",
    "test_generator = test_datagen.flow_from_dataframe(\n",
    "    dataframe=test_df,\n",
    "    directory=test_images_path,\n",
    "    x_col='imageFile',\n",
    "    y_col=None,  # Test set does not have labels\n",
    "    target_size=(224, 224),  # Adjusted to match the model's expected input shape\n",
    "    batch_size=32,\n",
    "    class_mode=None,  # Since we're not using the labels\n",
    "    shuffle=False  # Important to keep the same order as the input dataframe\n",
    ")"
   ]
  },
  {
   "cell_type": "code",
   "execution_count": 8,
   "id": "64360e83",
   "metadata": {
    "execution": {
     "iopub.execute_input": "2024-03-06T21:03:05.817454Z",
     "iopub.status.busy": "2024-03-06T21:03:05.816161Z",
     "iopub.status.idle": "2024-03-06T21:03:12.331805Z",
     "shell.execute_reply": "2024-03-06T21:03:12.330569Z"
    },
    "papermill": {
     "duration": 6.528119,
     "end_time": "2024-03-06T21:03:12.334814",
     "exception": false,
     "start_time": "2024-03-06T21:03:05.806695",
     "status": "completed"
    },
    "tags": []
   },
   "outputs": [
    {
     "name": "stdout",
     "output_type": "stream",
     "text": [
      "Downloading data from https://storage.googleapis.com/tensorflow/keras-applications/resnet/resnet50_weights_tf_dim_ordering_tf_kernels_notop.h5\n",
      "\u001b[1m94765736/94765736\u001b[0m \u001b[32m━━━━━━━━━━━━━━━━━━━━\u001b[0m\u001b[37m\u001b[0m \u001b[1m4s\u001b[0m 0us/step\n"
     ]
    }
   ],
   "source": [
    "# Define the model architecture using ResNet50\n",
    "base_model = ResNet50(weights='imagenet', include_top=False, input_shape=(224, 224, 3))\n",
    "base_model.trainable = False  # Freeze the layers"
   ]
  },
  {
   "cell_type": "code",
   "execution_count": 9,
   "id": "e4c6f822",
   "metadata": {
    "execution": {
     "iopub.execute_input": "2024-03-06T21:03:12.367148Z",
     "iopub.status.busy": "2024-03-06T21:03:12.365801Z",
     "iopub.status.idle": "2024-03-06T21:03:12.382726Z",
     "shell.execute_reply": "2024-03-06T21:03:12.381280Z"
    },
    "papermill": {
     "duration": 0.036688,
     "end_time": "2024-03-06T21:03:12.385499",
     "exception": false,
     "start_time": "2024-03-06T21:03:12.348811",
     "status": "completed"
    },
    "tags": []
   },
   "outputs": [],
   "source": [
    "from tensorflow.keras.layers import Dense, Dropout, GlobalAveragePooling2D\n",
    "\n",
    "model = Sequential([\n",
    "    base_model,\n",
    "    GlobalAveragePooling2D(),\n",
    "    Dense(512, activation='relu'),\n",
    "    Dropout(0.5),\n",
    "    Dense(10, activation='softmax')  # Adjust the number of units based on the number of classes\n",
    "])"
   ]
  },
  {
   "cell_type": "code",
   "execution_count": 10,
   "id": "daca0c09",
   "metadata": {
    "execution": {
     "iopub.execute_input": "2024-03-06T21:03:12.415434Z",
     "iopub.status.busy": "2024-03-06T21:03:12.414990Z",
     "iopub.status.idle": "2024-03-06T21:03:12.432750Z",
     "shell.execute_reply": "2024-03-06T21:03:12.431513Z"
    },
    "papermill": {
     "duration": 0.036203,
     "end_time": "2024-03-06T21:03:12.435580",
     "exception": false,
     "start_time": "2024-03-06T21:03:12.399377",
     "status": "completed"
    },
    "tags": []
   },
   "outputs": [],
   "source": [
    "# Compile the model\n",
    "model.compile(optimizer=Adam(learning_rate=0.001), loss='categorical_crossentropy', metrics=['accuracy'])"
   ]
  },
  {
   "cell_type": "code",
   "execution_count": 11,
   "id": "71372e79",
   "metadata": {
    "execution": {
     "iopub.execute_input": "2024-03-06T21:03:12.465870Z",
     "iopub.status.busy": "2024-03-06T21:03:12.465371Z",
     "iopub.status.idle": "2024-03-06T21:03:17.935978Z",
     "shell.execute_reply": "2024-03-06T21:03:17.934857Z"
    },
    "papermill": {
     "duration": 5.489486,
     "end_time": "2024-03-06T21:03:17.939013",
     "exception": false,
     "start_time": "2024-03-06T21:03:12.449527",
     "status": "completed"
    },
    "tags": []
   },
   "outputs": [
    {
     "name": "stdout",
     "output_type": "stream",
     "text": [
      "Downloading data from https://storage.googleapis.com/tensorflow/keras-applications/densenet/densenet121_weights_tf_dim_ordering_tf_kernels_notop.h5\n",
      "\u001b[1m29084464/29084464\u001b[0m \u001b[32m━━━━━━━━━━━━━━━━━━━━\u001b[0m\u001b[37m\u001b[0m \u001b[1m2s\u001b[0m 0us/step\n"
     ]
    }
   ],
   "source": [
    "# Load pre-trained DenseNet model\n",
    "Dense_model = DenseNet121(weights='imagenet', include_top=False, input_shape=(224, 224, 3))"
   ]
  },
  {
   "cell_type": "code",
   "execution_count": 12,
   "id": "b7026fb7",
   "metadata": {
    "execution": {
     "iopub.execute_input": "2024-03-06T21:03:17.974651Z",
     "iopub.status.busy": "2024-03-06T21:03:17.974252Z",
     "iopub.status.idle": "2024-03-06T21:03:17.992502Z",
     "shell.execute_reply": "2024-03-06T21:03:17.990923Z"
    },
    "papermill": {
     "duration": 0.039213,
     "end_time": "2024-03-06T21:03:17.995278",
     "exception": false,
     "start_time": "2024-03-06T21:03:17.956065",
     "status": "completed"
    },
    "tags": []
   },
   "outputs": [],
   "source": [
    "# Freeze the layers\n",
    "Dense_model.trainable = False"
   ]
  },
  {
   "cell_type": "code",
   "execution_count": 13,
   "id": "5048933f",
   "metadata": {
    "execution": {
     "iopub.execute_input": "2024-03-06T21:03:18.031666Z",
     "iopub.status.busy": "2024-03-06T21:03:18.031247Z",
     "iopub.status.idle": "2024-03-06T21:03:18.044420Z",
     "shell.execute_reply": "2024-03-06T21:03:18.043205Z"
    },
    "papermill": {
     "duration": 0.034088,
     "end_time": "2024-03-06T21:03:18.047046",
     "exception": false,
     "start_time": "2024-03-06T21:03:18.012958",
     "status": "completed"
    },
    "tags": []
   },
   "outputs": [],
   "source": [
    "# Build your custom model on top of DenseNet\n",
    "model = Sequential([\n",
    "    Dense_model,\n",
    "    GlobalAveragePooling2D(),\n",
    "    Dense(512, activation='relu'),\n",
    "    Dropout(0.5),\n",
    "    Dense(10, activation='softmax')  \n",
    "])"
   ]
  },
  {
   "cell_type": "code",
   "execution_count": 14,
   "id": "b09a451d",
   "metadata": {
    "execution": {
     "iopub.execute_input": "2024-03-06T21:03:18.084210Z",
     "iopub.status.busy": "2024-03-06T21:03:18.083715Z",
     "iopub.status.idle": "2024-03-06T23:42:22.559605Z",
     "shell.execute_reply": "2024-03-06T23:42:22.556522Z"
    },
    "papermill": {
     "duration": 9544.498539,
     "end_time": "2024-03-06T23:42:22.563042",
     "exception": false,
     "start_time": "2024-03-06T21:03:18.064503",
     "status": "completed"
    },
    "tags": []
   },
   "outputs": [
    {
     "name": "stdout",
     "output_type": "stream",
     "text": [
      "Epoch 1/2\n"
     ]
    },
    {
     "name": "stderr",
     "output_type": "stream",
     "text": [
      "/opt/conda/lib/python3.10/site-packages/keras/src/trainers/data_adapters/py_dataset_adapter.py:122: UserWarning: Your `PyDataset` class should call `super().__init__(**kwargs)` in its constructor. `**kwargs` can include `workers`, `use_multiprocessing`, `max_queue_size`. Do not pass these arguments to `fit()`, as they will be ignored.\n",
      "  self._warn_if_super_not_called()\n"
     ]
    },
    {
     "name": "stdout",
     "output_type": "stream",
     "text": [
      "\u001b[1m2561/2561\u001b[0m \u001b[32m━━━━━━━━━━━━━━━━━━━━\u001b[0m\u001b[37m\u001b[0m \u001b[1m9543s\u001b[0m 4s/step - accuracy: 0.8299 - loss: 0.4991 - val_accuracy: 0.9222 - val_loss: 0.2181\n",
      "Epoch 2/2\n"
     ]
    },
    {
     "name": "stderr",
     "output_type": "stream",
     "text": [
      "/opt/conda/lib/python3.10/contextlib.py:153: UserWarning: Your input ran out of data; interrupting training. Make sure that your dataset or generator can generate at least `steps_per_epoch * epochs` batches. You may need to use the `.repeat()` function when building your dataset.\n",
      "  self.gen.throw(typ, value, traceback)\n"
     ]
    },
    {
     "name": "stdout",
     "output_type": "stream",
     "text": [
      "\u001b[1m2561/2561\u001b[0m \u001b[32m━━━━━━━━━━━━━━━━━━━━\u001b[0m\u001b[37m\u001b[0m \u001b[1m0s\u001b[0m 192us/step - accuracy: 0.0000e+00 - loss: 0.0000e+00 - val_accuracy: 0.0000e+00 - val_loss: 0.0000e+00\n",
      "Restoring model weights from the end of the best epoch: 2.\n"
     ]
    }
   ],
   "source": [
    "#Compile the model\n",
    "model.compile(optimizer=Adam(learning_rate=0.001), loss='categorical_crossentropy', metrics=['accuracy'])\n",
    "\n",
    "# Define EarlyStopping callback, Steps Per Epoch\n",
    "early_stopping = EarlyStopping(monitor='val_loss', patience=3, verbose=1, mode='min', restore_best_weights=True)\n",
    "steps_per_epoch = len(train_df) // batch_size + (len(train_df) % batch_size > 0)\n",
    "validation_steps = len(validation_df) // batch_size + (len(validation_df) % batch_size > 0)\n",
    "\n",
    "\n",
    "# Add it to the fit function\n",
    "history = model.fit(\n",
    "    train_generator,\n",
    "    steps_per_epoch=steps_per_epoch,\n",
    "    epochs=2,\n",
    "    validation_data=validate_generator,\n",
    "    validation_steps=validation_steps,\n",
    "    callbacks=[early_stopping]\n",
    ")"
   ]
  },
  {
   "cell_type": "code",
   "execution_count": 15,
   "id": "abd481bb",
   "metadata": {
    "execution": {
     "iopub.execute_input": "2024-03-06T23:42:23.099604Z",
     "iopub.status.busy": "2024-03-06T23:42:23.097825Z",
     "iopub.status.idle": "2024-03-06T23:42:23.108692Z",
     "shell.execute_reply": "2024-03-06T23:42:23.107875Z"
    },
    "papermill": {
     "duration": 0.281507,
     "end_time": "2024-03-06T23:42:23.110685",
     "exception": false,
     "start_time": "2024-03-06T23:42:22.829178",
     "status": "completed"
    },
    "tags": []
   },
   "outputs": [],
   "source": [
    "tf.debugging.set_log_device_placement(True)"
   ]
  },
  {
   "cell_type": "code",
   "execution_count": 16,
   "id": "11679b16",
   "metadata": {
    "execution": {
     "iopub.execute_input": "2024-03-06T23:42:23.651144Z",
     "iopub.status.busy": "2024-03-06T23:42:23.650362Z",
     "iopub.status.idle": "2024-03-07T07:34:46.333564Z",
     "shell.execute_reply": "2024-03-07T07:34:46.327532Z"
    },
    "papermill": {
     "duration": 28342.962919,
     "end_time": "2024-03-07T07:34:46.342216",
     "exception": false,
     "start_time": "2024-03-06T23:42:23.379297",
     "status": "completed"
    },
    "tags": []
   },
   "outputs": [
    {
     "name": "stdout",
     "output_type": "stream",
     "text": [
      "Epoch 1/10\n",
      "\u001b[1m2561/2561\u001b[0m \u001b[32m━━━━━━━━━━━━━━━━━━━━\u001b[0m\u001b[37m\u001b[0m \u001b[1m9383s\u001b[0m 4s/step - accuracy: 0.9074 - loss: 0.2597 - val_accuracy: 0.9210 - val_loss: 0.2266\n",
      "Epoch 2/10\n",
      "\u001b[1m2561/2561\u001b[0m \u001b[32m━━━━━━━━━━━━━━━━━━━━\u001b[0m\u001b[37m\u001b[0m \u001b[1m0s\u001b[0m 190us/step - accuracy: 0.0000e+00 - loss: 0.0000e+00 - val_accuracy: 0.0000e+00 - val_loss: 0.0000e+00\n",
      "Epoch 3/10\n",
      "\u001b[1m2561/2561\u001b[0m \u001b[32m━━━━━━━━━━━━━━━━━━━━\u001b[0m\u001b[37m\u001b[0m \u001b[1m9490s\u001b[0m 4s/step - accuracy: 0.9165 - loss: 0.2400 - val_accuracy: 0.9384 - val_loss: 0.1784\n",
      "Epoch 4/10\n",
      "\u001b[1m2561/2561\u001b[0m \u001b[32m━━━━━━━━━━━━━━━━━━━━\u001b[0m\u001b[37m\u001b[0m \u001b[1m52s\u001b[0m 20ms/step - accuracy: 0.0000e+00 - loss: 0.0000e+00 - val_accuracy: 0.0000e+00 - val_loss: 0.0000e+00\n",
      "Epoch 5/10\n",
      "\u001b[1m2561/2561\u001b[0m \u001b[32m━━━━━━━━━━━━━━━━━━━━\u001b[0m\u001b[37m\u001b[0m \u001b[1m9410s\u001b[0m 4s/step - accuracy: 0.9222 - loss: 0.2244 - val_accuracy: 0.9233 - val_loss: 0.2113\n",
      "Epoch 5: early stopping\n",
      "Restoring model weights from the end of the best epoch: 2.\n"
     ]
    }
   ],
   "source": [
    "# Calculate steps per epoch and validation steps\n",
    "steps_per_epoch = len(train_df) // batch_size + (len(train_df) % batch_size > 0)\n",
    "validation_steps = len(validation_df) // batch_size + (len(validation_df) % batch_size > 0)\n",
    "\n",
    "# Define EarlyStopping callback\n",
    "early_stopping = EarlyStopping(monitor='val_loss', patience=3, verbose=1, mode='min', restore_best_weights=True)\n",
    "\n",
    "# Add it to the fit function\n",
    "history = model.fit(\n",
    "    train_generator,\n",
    "    steps_per_epoch=steps_per_epoch,\n",
    "    epochs=10,\n",
    "    validation_data=validate_generator,\n",
    "    validation_steps=validation_steps,\n",
    "    callbacks=[early_stopping]  # Add callbacks here\n",
    ")"
   ]
  },
  {
   "cell_type": "code",
   "execution_count": 17,
   "id": "f6cba315",
   "metadata": {
    "execution": {
     "iopub.execute_input": "2024-03-07T07:34:48.478079Z",
     "iopub.status.busy": "2024-03-07T07:34:48.476904Z",
     "iopub.status.idle": "2024-03-07T08:25:04.227155Z",
     "shell.execute_reply": "2024-03-07T08:25:04.225785Z"
    },
    "papermill": {
     "duration": 3016.78638,
     "end_time": "2024-03-07T08:25:04.230037",
     "exception": false,
     "start_time": "2024-03-07T07:34:47.443657",
     "status": "completed"
    },
    "tags": []
   },
   "outputs": [
    {
     "name": "stdout",
     "output_type": "stream",
     "text": [
      "\u001b[1m960/960\u001b[0m \u001b[32m━━━━━━━━━━━━━━━━━━━━\u001b[0m\u001b[37m\u001b[0m \u001b[1m3014s\u001b[0m 3s/step\n",
      "Submission file saved as submission.csv\n"
     ]
    }
   ],
   "source": [
    "# Predict the class probabilities for the test set\n",
    "test_predictions_prob = model.predict(test_generator)\n",
    "\n",
    "# Convert probabilities to class indices\n",
    "test_predictions = np.argmax(test_predictions_prob, axis=1)\n",
    "\n",
    "# Map class indices to class labels\n",
    "class_labels = {v: k for k, v in train_generator.class_indices.items()}\n",
    "test_predicted_labels = [class_labels[idx] for idx in test_predictions]\n",
    "\n",
    "# Create the submission DataFrame\n",
    "submission_df = pd.DataFrame({\n",
    "    'uniqueID': test_df['uniqueID'],  # Ensure this column exists in your test_df\n",
    "    'classID': test_predicted_labels\n",
    "})\n",
    "\n",
    "# Save the submission file\n",
    "submission_filename = 'submission.csv'\n",
    "submission_df.to_csv(submission_filename, index=False)\n",
    "\n",
    "print(f\"Submission file saved as {submission_filename}\")"
   ]
  },
  {
   "cell_type": "code",
   "execution_count": 18,
   "id": "0cd24cf1",
   "metadata": {
    "execution": {
     "iopub.execute_input": "2024-03-07T08:25:06.707868Z",
     "iopub.status.busy": "2024-03-07T08:25:06.707400Z",
     "iopub.status.idle": "2024-03-07T08:25:06.724677Z",
     "shell.execute_reply": "2024-03-07T08:25:06.723336Z"
    },
    "papermill": {
     "duration": 1.14969,
     "end_time": "2024-03-07T08:25:06.727031",
     "exception": false,
     "start_time": "2024-03-07T08:25:05.577341",
     "status": "completed"
    },
    "tags": []
   },
   "outputs": [
    {
     "data": {
      "text/html": [
       "<div>\n",
       "<style scoped>\n",
       "    .dataframe tbody tr th:only-of-type {\n",
       "        vertical-align: middle;\n",
       "    }\n",
       "\n",
       "    .dataframe tbody tr th {\n",
       "        vertical-align: top;\n",
       "    }\n",
       "\n",
       "    .dataframe thead th {\n",
       "        text-align: right;\n",
       "    }\n",
       "</style>\n",
       "<table border=\"1\" class=\"dataframe\">\n",
       "  <thead>\n",
       "    <tr style=\"text-align: right;\">\n",
       "      <th></th>\n",
       "      <th>uniqueID</th>\n",
       "      <th>classID</th>\n",
       "    </tr>\n",
       "  </thead>\n",
       "  <tbody>\n",
       "    <tr>\n",
       "      <th>0</th>\n",
       "      <td>1</td>\n",
       "      <td>1</td>\n",
       "    </tr>\n",
       "    <tr>\n",
       "      <th>1</th>\n",
       "      <td>9</td>\n",
       "      <td>9</td>\n",
       "    </tr>\n",
       "    <tr>\n",
       "      <th>2</th>\n",
       "      <td>10</td>\n",
       "      <td>4</td>\n",
       "    </tr>\n",
       "    <tr>\n",
       "      <th>3</th>\n",
       "      <td>14</td>\n",
       "      <td>1</td>\n",
       "    </tr>\n",
       "    <tr>\n",
       "      <th>4</th>\n",
       "      <td>16</td>\n",
       "      <td>6</td>\n",
       "    </tr>\n",
       "  </tbody>\n",
       "</table>\n",
       "</div>"
      ],
      "text/plain": [
       "   uniqueID classID\n",
       "0         1       1\n",
       "1         9       9\n",
       "2        10       4\n",
       "3        14       1\n",
       "4        16       6"
      ]
     },
     "execution_count": 18,
     "metadata": {},
     "output_type": "execute_result"
    }
   ],
   "source": [
    "submission_df.head()"
   ]
  }
 ],
 "metadata": {
  "kaggle": {
   "accelerator": "none",
   "dataSources": [
    {
     "databundleVersionId": 7522884,
     "sourceId": 66199,
     "sourceType": "competition"
    }
   ],
   "dockerImageVersionId": 30664,
   "isGpuEnabled": false,
   "isInternetEnabled": true,
   "language": "python",
   "sourceType": "notebook"
  },
  "kernelspec": {
   "display_name": "Python 3",
   "language": "python",
   "name": "python3"
  },
  "language_info": {
   "codemirror_mode": {
    "name": "ipython",
    "version": 3
   },
   "file_extension": ".py",
   "mimetype": "text/x-python",
   "name": "python",
   "nbconvert_exporter": "python",
   "pygments_lexer": "ipython3",
   "version": "3.10.13"
  },
  "papermill": {
   "default_parameters": {},
   "duration": 41157.511672,
   "end_time": "2024-03-07T08:25:11.337017",
   "environment_variables": {},
   "exception": null,
   "input_path": "__notebook__.ipynb",
   "output_path": "__notebook__.ipynb",
   "parameters": {},
   "start_time": "2024-03-06T20:59:13.825345",
   "version": "2.5.0"
  }
 },
 "nbformat": 4,
 "nbformat_minor": 5
}
